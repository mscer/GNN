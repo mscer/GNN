{
 "cells": [
  {
   "cell_type": "code",
   "execution_count": 1,
   "id": "c54a4aec",
   "metadata": {},
   "outputs": [
    {
     "name": "stderr",
     "output_type": "stream",
     "text": [
      "Using backend: pytorch\n"
     ]
    }
   ],
   "source": [
    "import dgl\n",
    "import torch\n",
    "import torch.nn as nn\n",
    "import torch.nn.functional as F"
   ]
  },
  {
   "cell_type": "markdown",
   "id": "5275bfcf",
   "metadata": {},
   "source": [
    "# data"
   ]
  },
  {
   "cell_type": "code",
   "execution_count": 2,
   "id": "cca7810c",
   "metadata": {},
   "outputs": [],
   "source": [
    "import dgl.data"
   ]
  },
  {
   "cell_type": "code",
   "execution_count": 3,
   "id": "bb9f5c3b",
   "metadata": {},
   "outputs": [
    {
     "name": "stdout",
     "output_type": "stream",
     "text": [
      "  NumNodes: 2708\n",
      "  NumEdges: 10556\n",
      "  NumFeats: 1433\n",
      "  NumClasses: 7\n",
      "  NumTrainingSamples: 140\n",
      "  NumValidationSamples: 500\n",
      "  NumTestSamples: 1000\n",
      "Done loading data from cached files.\n"
     ]
    }
   ],
   "source": [
    "dataset = dgl.data.CoraGraphDataset()"
   ]
  },
  {
   "cell_type": "code",
   "execution_count": 4,
   "id": "82d7a57b",
   "metadata": {},
   "outputs": [],
   "source": [
    "g = dataset[0]"
   ]
  },
  {
   "cell_type": "code",
   "execution_count": 5,
   "id": "4d4ae7b4",
   "metadata": {},
   "outputs": [
    {
     "data": {
      "text/plain": [
       "{'feat': tensor([[0.0000, 0.0000, 0.0000,  ..., 0.0000, 0.0000, 0.0000],\n",
       "        [0.0000, 0.0000, 0.0000,  ..., 0.0000, 0.0000, 0.0000],\n",
       "        [0.0000, 0.0000, 0.0000,  ..., 0.0000, 0.0000, 0.0000],\n",
       "        ...,\n",
       "        [0.0000, 0.0000, 0.0000,  ..., 0.0000, 0.0000, 0.0000],\n",
       "        [0.0000, 0.0000, 0.0000,  ..., 0.0000, 0.0000, 0.0000],\n",
       "        [0.0000, 0.0000, 0.0000,  ..., 0.0000, 0.0526, 0.0000]]), 'label': tensor([4, 4, 4,  ..., 4, 3, 3]), 'test_mask': tensor([ True,  True, False,  ..., False, False, False]), 'val_mask': tensor([False, False,  True,  ..., False, False, False]), 'train_mask': tensor([False, False, False,  ..., False, False, False])}"
      ]
     },
     "execution_count": 5,
     "metadata": {},
     "output_type": "execute_result"
    }
   ],
   "source": [
    "#node feat\n",
    "g.ndata"
   ]
  },
  {
   "cell_type": "code",
   "execution_count": 6,
   "id": "fa92bcea",
   "metadata": {},
   "outputs": [
    {
     "data": {
      "text/plain": [
       "{}"
      ]
     },
     "execution_count": 6,
     "metadata": {},
     "output_type": "execute_result"
    }
   ],
   "source": [
    "#edge feat\n",
    "g.edata"
   ]
  },
  {
   "cell_type": "markdown",
   "id": "d9a33495",
   "metadata": {},
   "source": [
    "# model"
   ]
  },
  {
   "cell_type": "code",
   "execution_count": 7,
   "id": "ae13d49a",
   "metadata": {},
   "outputs": [],
   "source": [
    "from dgl.nn import GraphConv"
   ]
  },
  {
   "cell_type": "code",
   "execution_count": 8,
   "id": "10957b0a",
   "metadata": {},
   "outputs": [],
   "source": [
    "GraphConv??"
   ]
  },
  {
   "cell_type": "code",
   "execution_count": 9,
   "id": "acb87229",
   "metadata": {},
   "outputs": [],
   "source": [
    "class GCN(nn.Module):\n",
    "    def __init__(self,in_feats,h_feats,num_classes):\n",
    "        super(GCN,self).__init__()\n",
    "        self.gc1 = GraphConv(in_feats=in_feats,out_feats=h_feats)\n",
    "        self.gc2 = GraphConv(in_feats=h_feats,out_feats=num_classes)\n",
    "    \n",
    "    def forward(self,g,in_feat):\n",
    "        h = self.gc1(g,in_feat)\n",
    "        h = F.relu(h)\n",
    "        h = self.gc2(g,h)\n",
    "        return h"
   ]
  },
  {
   "cell_type": "code",
   "execution_count": 10,
   "id": "d859fa05",
   "metadata": {},
   "outputs": [],
   "source": [
    "model = GCN(g.ndata['feat'].shape[1],16,dataset.num_classes)"
   ]
  },
  {
   "cell_type": "code",
   "execution_count": 11,
   "id": "3dad2574",
   "metadata": {},
   "outputs": [
    {
     "data": {
      "text/plain": [
       "GCN(\n",
       "  (gc1): GraphConv(in=1433, out=16, normalization=both, activation=None)\n",
       "  (gc2): GraphConv(in=16, out=7, normalization=both, activation=None)\n",
       ")"
      ]
     },
     "execution_count": 11,
     "metadata": {},
     "output_type": "execute_result"
    }
   ],
   "source": [
    "model"
   ]
  },
  {
   "cell_type": "code",
   "execution_count": 12,
   "id": "48a7b58c",
   "metadata": {},
   "outputs": [],
   "source": [
    "optimizer = torch.optim.Adam(model.parameters(),lr=0.01)"
   ]
  },
  {
   "cell_type": "code",
   "execution_count": 13,
   "id": "a475129f",
   "metadata": {},
   "outputs": [],
   "source": [
    "loss_func = torch.nn.CrossEntropyLoss()"
   ]
  },
  {
   "cell_type": "markdown",
   "id": "ea7aac7d",
   "metadata": {},
   "source": [
    "# train"
   ]
  },
  {
   "cell_type": "code",
   "execution_count": 14,
   "id": "abb5c6be",
   "metadata": {},
   "outputs": [],
   "source": [
    "model = model.to('cuda')"
   ]
  },
  {
   "cell_type": "code",
   "execution_count": 15,
   "id": "17129e9b",
   "metadata": {},
   "outputs": [],
   "source": [
    "def train(g,model):\n",
    "    best_val_acc = 0\n",
    "    best_test_acc = 0\n",
    "    \n",
    "    features = g.ndata['feat']\n",
    "    labels = g.ndata['label']\n",
    "    train_mask = g.ndata['train_mask']\n",
    "    val_mask = g.ndata['val_mask']\n",
    "    test_mask = g.ndata['test_mask']\n",
    "    \n",
    "    for e in range(500):\n",
    "        logits = model(g,features)\n",
    "        pred = logits.argmax(1)\n",
    "        \n",
    "        ##\n",
    "        loss = loss_func(logits[train_mask],labels[train_mask])\n",
    "        \n",
    "        train_acc = (pred[train_mask]==labels[train_mask]).float().mean()\n",
    "        val_acc = (pred[val_mask]==labels[val_mask]).float().mean()\n",
    "        test_acc = (pred[test_mask]==labels[test_mask]).float().mean()\n",
    "        \n",
    "        if best_val_acc < val_acc:\n",
    "            best_val_acc = val_acc\n",
    "            best_test_acc  = test_acc\n",
    "        \n",
    "        optimizer.zero_grad()\n",
    "        loss.backward()\n",
    "        optimizer.step()\n",
    "        \n",
    "        if e%5 == 0:\n",
    "            print('epoch:%d,loss:%f,val_acc:%f -best_val:%f,test_acc:%f - best_test:%f,'%(e,\\\n",
    "                                                                                           loss,val_acc,best_val_acc,test_acc,best_test_acc))"
   ]
  },
  {
   "cell_type": "code",
   "execution_count": 16,
   "id": "ecdad14f",
   "metadata": {
    "scrolled": false
   },
   "outputs": [
    {
     "name": "stdout",
     "output_type": "stream",
     "text": [
      "epoch:0,loss:1.947057,val_acc:0.080000 -best_val:0.080000,test_acc:0.084000 - best_test:0.084000,\n",
      "epoch:5,loss:1.905572,val_acc:0.488000 -best_val:0.488000,test_acc:0.485000 - best_test:0.485000,\n",
      "epoch:10,loss:1.833501,val_acc:0.594000 -best_val:0.596000,test_acc:0.571000 - best_test:0.572000,\n",
      "epoch:15,loss:1.734872,val_acc:0.644000 -best_val:0.644000,test_acc:0.614000 - best_test:0.614000,\n",
      "epoch:20,loss:1.610127,val_acc:0.678000 -best_val:0.678000,test_acc:0.676000 - best_test:0.676000,\n",
      "epoch:25,loss:1.460230,val_acc:0.690000 -best_val:0.690000,test_acc:0.702000 - best_test:0.702000,\n",
      "epoch:30,loss:1.291918,val_acc:0.712000 -best_val:0.712000,test_acc:0.719000 - best_test:0.719000,\n",
      "epoch:35,loss:1.112895,val_acc:0.718000 -best_val:0.720000,test_acc:0.728000 - best_test:0.719000,\n",
      "epoch:40,loss:0.934309,val_acc:0.726000 -best_val:0.726000,test_acc:0.735000 - best_test:0.735000,\n",
      "epoch:45,loss:0.766646,val_acc:0.738000 -best_val:0.738000,test_acc:0.747000 - best_test:0.744000,\n",
      "epoch:50,loss:0.618450,val_acc:0.748000 -best_val:0.748000,test_acc:0.760000 - best_test:0.757000,\n",
      "epoch:55,loss:0.493835,val_acc:0.752000 -best_val:0.752000,test_acc:0.764000 - best_test:0.764000,\n",
      "epoch:60,loss:0.393140,val_acc:0.754000 -best_val:0.756000,test_acc:0.769000 - best_test:0.767000,\n",
      "epoch:65,loss:0.313982,val_acc:0.758000 -best_val:0.758000,test_acc:0.769000 - best_test:0.769000,\n",
      "epoch:70,loss:0.252491,val_acc:0.766000 -best_val:0.766000,test_acc:0.770000 - best_test:0.771000,\n",
      "epoch:75,loss:0.204992,val_acc:0.768000 -best_val:0.768000,test_acc:0.772000 - best_test:0.770000,\n",
      "epoch:80,loss:0.168249,val_acc:0.772000 -best_val:0.772000,test_acc:0.778000 - best_test:0.778000,\n",
      "epoch:85,loss:0.139691,val_acc:0.768000 -best_val:0.772000,test_acc:0.776000 - best_test:0.778000,\n",
      "epoch:90,loss:0.117348,val_acc:0.770000 -best_val:0.774000,test_acc:0.776000 - best_test:0.776000,\n",
      "epoch:95,loss:0.099714,val_acc:0.768000 -best_val:0.774000,test_acc:0.776000 - best_test:0.776000,\n",
      "epoch:100,loss:0.085639,val_acc:0.770000 -best_val:0.774000,test_acc:0.775000 - best_test:0.776000,\n",
      "epoch:105,loss:0.074304,val_acc:0.770000 -best_val:0.774000,test_acc:0.771000 - best_test:0.776000,\n",
      "epoch:110,loss:0.065047,val_acc:0.770000 -best_val:0.774000,test_acc:0.771000 - best_test:0.776000,\n",
      "epoch:115,loss:0.057439,val_acc:0.768000 -best_val:0.774000,test_acc:0.771000 - best_test:0.776000,\n",
      "epoch:120,loss:0.051123,val_acc:0.760000 -best_val:0.774000,test_acc:0.771000 - best_test:0.776000,\n",
      "epoch:125,loss:0.045822,val_acc:0.760000 -best_val:0.774000,test_acc:0.771000 - best_test:0.776000,\n",
      "epoch:130,loss:0.041322,val_acc:0.760000 -best_val:0.774000,test_acc:0.770000 - best_test:0.776000,\n",
      "epoch:135,loss:0.037498,val_acc:0.760000 -best_val:0.774000,test_acc:0.771000 - best_test:0.776000,\n",
      "epoch:140,loss:0.034198,val_acc:0.760000 -best_val:0.774000,test_acc:0.767000 - best_test:0.776000,\n",
      "epoch:145,loss:0.031343,val_acc:0.760000 -best_val:0.774000,test_acc:0.765000 - best_test:0.776000,\n",
      "epoch:150,loss:0.028852,val_acc:0.762000 -best_val:0.774000,test_acc:0.766000 - best_test:0.776000,\n",
      "epoch:155,loss:0.026657,val_acc:0.764000 -best_val:0.774000,test_acc:0.765000 - best_test:0.776000,\n",
      "epoch:160,loss:0.024719,val_acc:0.764000 -best_val:0.774000,test_acc:0.765000 - best_test:0.776000,\n",
      "epoch:165,loss:0.023000,val_acc:0.764000 -best_val:0.774000,test_acc:0.767000 - best_test:0.776000,\n",
      "epoch:170,loss:0.021462,val_acc:0.764000 -best_val:0.774000,test_acc:0.765000 - best_test:0.776000,\n",
      "epoch:175,loss:0.020075,val_acc:0.766000 -best_val:0.774000,test_acc:0.762000 - best_test:0.776000,\n",
      "epoch:180,loss:0.018837,val_acc:0.766000 -best_val:0.774000,test_acc:0.762000 - best_test:0.776000,\n",
      "epoch:185,loss:0.017711,val_acc:0.766000 -best_val:0.774000,test_acc:0.762000 - best_test:0.776000,\n",
      "epoch:190,loss:0.016688,val_acc:0.768000 -best_val:0.774000,test_acc:0.762000 - best_test:0.776000,\n",
      "epoch:195,loss:0.015760,val_acc:0.770000 -best_val:0.774000,test_acc:0.762000 - best_test:0.776000,\n",
      "epoch:200,loss:0.014906,val_acc:0.770000 -best_val:0.774000,test_acc:0.762000 - best_test:0.776000,\n",
      "epoch:205,loss:0.014129,val_acc:0.770000 -best_val:0.774000,test_acc:0.763000 - best_test:0.776000,\n",
      "epoch:210,loss:0.013412,val_acc:0.770000 -best_val:0.774000,test_acc:0.762000 - best_test:0.776000,\n",
      "epoch:215,loss:0.012751,val_acc:0.772000 -best_val:0.774000,test_acc:0.762000 - best_test:0.776000,\n",
      "epoch:220,loss:0.012141,val_acc:0.772000 -best_val:0.774000,test_acc:0.761000 - best_test:0.776000,\n",
      "epoch:225,loss:0.011575,val_acc:0.772000 -best_val:0.774000,test_acc:0.761000 - best_test:0.776000,\n",
      "epoch:230,loss:0.011049,val_acc:0.772000 -best_val:0.774000,test_acc:0.761000 - best_test:0.776000,\n",
      "epoch:235,loss:0.010561,val_acc:0.772000 -best_val:0.774000,test_acc:0.760000 - best_test:0.776000,\n",
      "epoch:240,loss:0.010104,val_acc:0.772000 -best_val:0.774000,test_acc:0.761000 - best_test:0.776000,\n",
      "epoch:245,loss:0.009678,val_acc:0.774000 -best_val:0.774000,test_acc:0.761000 - best_test:0.776000,\n",
      "epoch:250,loss:0.009283,val_acc:0.776000 -best_val:0.776000,test_acc:0.761000 - best_test:0.760000,\n",
      "epoch:255,loss:0.008908,val_acc:0.778000 -best_val:0.778000,test_acc:0.761000 - best_test:0.760000,\n",
      "epoch:260,loss:0.008560,val_acc:0.778000 -best_val:0.778000,test_acc:0.761000 - best_test:0.760000,\n",
      "epoch:265,loss:0.008231,val_acc:0.778000 -best_val:0.778000,test_acc:0.760000 - best_test:0.760000,\n",
      "epoch:270,loss:0.007924,val_acc:0.778000 -best_val:0.778000,test_acc:0.760000 - best_test:0.760000,\n",
      "epoch:275,loss:0.007632,val_acc:0.778000 -best_val:0.778000,test_acc:0.760000 - best_test:0.760000,\n",
      "epoch:280,loss:0.007359,val_acc:0.776000 -best_val:0.778000,test_acc:0.759000 - best_test:0.760000,\n",
      "epoch:285,loss:0.007100,val_acc:0.778000 -best_val:0.778000,test_acc:0.759000 - best_test:0.760000,\n",
      "epoch:290,loss:0.006855,val_acc:0.778000 -best_val:0.778000,test_acc:0.759000 - best_test:0.760000,\n",
      "epoch:295,loss:0.006623,val_acc:0.778000 -best_val:0.778000,test_acc:0.759000 - best_test:0.760000,\n",
      "epoch:300,loss:0.006403,val_acc:0.778000 -best_val:0.778000,test_acc:0.760000 - best_test:0.760000,\n",
      "epoch:305,loss:0.006194,val_acc:0.778000 -best_val:0.778000,test_acc:0.759000 - best_test:0.760000,\n",
      "epoch:310,loss:0.005997,val_acc:0.778000 -best_val:0.778000,test_acc:0.759000 - best_test:0.760000,\n",
      "epoch:315,loss:0.005807,val_acc:0.778000 -best_val:0.778000,test_acc:0.759000 - best_test:0.760000,\n",
      "epoch:320,loss:0.005630,val_acc:0.776000 -best_val:0.778000,test_acc:0.758000 - best_test:0.760000,\n",
      "epoch:325,loss:0.005458,val_acc:0.776000 -best_val:0.778000,test_acc:0.757000 - best_test:0.760000,\n",
      "epoch:330,loss:0.005294,val_acc:0.776000 -best_val:0.778000,test_acc:0.757000 - best_test:0.760000,\n",
      "epoch:335,loss:0.005139,val_acc:0.776000 -best_val:0.778000,test_acc:0.756000 - best_test:0.760000,\n",
      "epoch:340,loss:0.004993,val_acc:0.776000 -best_val:0.778000,test_acc:0.756000 - best_test:0.760000,\n",
      "epoch:345,loss:0.004850,val_acc:0.778000 -best_val:0.778000,test_acc:0.756000 - best_test:0.760000,\n",
      "epoch:350,loss:0.004715,val_acc:0.776000 -best_val:0.778000,test_acc:0.756000 - best_test:0.760000,\n",
      "epoch:355,loss:0.004585,val_acc:0.776000 -best_val:0.778000,test_acc:0.756000 - best_test:0.760000,\n",
      "epoch:360,loss:0.004460,val_acc:0.776000 -best_val:0.778000,test_acc:0.755000 - best_test:0.760000,\n",
      "epoch:365,loss:0.004342,val_acc:0.776000 -best_val:0.778000,test_acc:0.755000 - best_test:0.760000,\n",
      "epoch:370,loss:0.004227,val_acc:0.778000 -best_val:0.778000,test_acc:0.755000 - best_test:0.760000,\n",
      "epoch:375,loss:0.004117,val_acc:0.778000 -best_val:0.778000,test_acc:0.755000 - best_test:0.760000,\n",
      "epoch:380,loss:0.004011,val_acc:0.778000 -best_val:0.778000,test_acc:0.755000 - best_test:0.760000,\n",
      "epoch:385,loss:0.003911,val_acc:0.778000 -best_val:0.778000,test_acc:0.755000 - best_test:0.760000,\n",
      "epoch:390,loss:0.003814,val_acc:0.778000 -best_val:0.778000,test_acc:0.754000 - best_test:0.760000,\n",
      "epoch:395,loss:0.003720,val_acc:0.778000 -best_val:0.778000,test_acc:0.753000 - best_test:0.760000,\n",
      "epoch:400,loss:0.003630,val_acc:0.778000 -best_val:0.778000,test_acc:0.753000 - best_test:0.760000,\n",
      "epoch:405,loss:0.003544,val_acc:0.778000 -best_val:0.778000,test_acc:0.753000 - best_test:0.760000,\n",
      "epoch:410,loss:0.003460,val_acc:0.778000 -best_val:0.778000,test_acc:0.753000 - best_test:0.760000,\n",
      "epoch:415,loss:0.003380,val_acc:0.778000 -best_val:0.778000,test_acc:0.753000 - best_test:0.760000,\n",
      "epoch:420,loss:0.003302,val_acc:0.778000 -best_val:0.778000,test_acc:0.752000 - best_test:0.760000,\n",
      "epoch:425,loss:0.003228,val_acc:0.778000 -best_val:0.778000,test_acc:0.753000 - best_test:0.760000,\n"
     ]
    },
    {
     "name": "stdout",
     "output_type": "stream",
     "text": [
      "epoch:430,loss:0.003155,val_acc:0.776000 -best_val:0.778000,test_acc:0.752000 - best_test:0.760000,\n",
      "epoch:435,loss:0.003085,val_acc:0.774000 -best_val:0.778000,test_acc:0.752000 - best_test:0.760000,\n",
      "epoch:440,loss:0.003017,val_acc:0.774000 -best_val:0.778000,test_acc:0.752000 - best_test:0.760000,\n",
      "epoch:445,loss:0.002953,val_acc:0.774000 -best_val:0.778000,test_acc:0.752000 - best_test:0.760000,\n",
      "epoch:450,loss:0.002890,val_acc:0.774000 -best_val:0.778000,test_acc:0.752000 - best_test:0.760000,\n",
      "epoch:455,loss:0.002828,val_acc:0.774000 -best_val:0.778000,test_acc:0.752000 - best_test:0.760000,\n",
      "epoch:460,loss:0.002768,val_acc:0.774000 -best_val:0.778000,test_acc:0.751000 - best_test:0.760000,\n",
      "epoch:465,loss:0.002712,val_acc:0.774000 -best_val:0.778000,test_acc:0.751000 - best_test:0.760000,\n",
      "epoch:470,loss:0.002657,val_acc:0.774000 -best_val:0.778000,test_acc:0.750000 - best_test:0.760000,\n",
      "epoch:475,loss:0.002603,val_acc:0.774000 -best_val:0.778000,test_acc:0.750000 - best_test:0.760000,\n",
      "epoch:480,loss:0.002552,val_acc:0.774000 -best_val:0.778000,test_acc:0.750000 - best_test:0.760000,\n",
      "epoch:485,loss:0.002501,val_acc:0.774000 -best_val:0.778000,test_acc:0.750000 - best_test:0.760000,\n",
      "epoch:490,loss:0.002452,val_acc:0.774000 -best_val:0.778000,test_acc:0.750000 - best_test:0.760000,\n",
      "epoch:495,loss:0.002405,val_acc:0.774000 -best_val:0.778000,test_acc:0.750000 - best_test:0.760000,\n"
     ]
    }
   ],
   "source": [
    "train(g.to(\"cuda\"),model)"
   ]
  },
  {
   "cell_type": "code",
   "execution_count": null,
   "id": "b775feb6",
   "metadata": {},
   "outputs": [],
   "source": []
  }
 ],
 "metadata": {
  "kernelspec": {
   "display_name": "Python 3 (ipykernel)",
   "language": "python",
   "name": "python3"
  },
  "language_info": {
   "codemirror_mode": {
    "name": "ipython",
    "version": 3
   },
   "file_extension": ".py",
   "mimetype": "text/x-python",
   "name": "python",
   "nbconvert_exporter": "python",
   "pygments_lexer": "ipython3",
   "version": "3.9.7"
  }
 },
 "nbformat": 4,
 "nbformat_minor": 5
}

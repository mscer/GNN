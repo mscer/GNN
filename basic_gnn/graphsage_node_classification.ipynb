{
 "cells": [
  {
   "cell_type": "code",
   "execution_count": 1,
   "id": "843412f5",
   "metadata": {},
   "outputs": [
    {
     "name": "stderr",
     "output_type": "stream",
     "text": [
      "Using backend: pytorch\n"
     ]
    }
   ],
   "source": [
    "import dgl\n",
    "import torch\n",
    "import torch.nn as nn\n",
    "import torch.nn.functional as F"
   ]
  },
  {
   "cell_type": "markdown",
   "id": "2684dad0",
   "metadata": {},
   "source": [
    "# data"
   ]
  },
  {
   "cell_type": "code",
   "execution_count": 2,
   "id": "701ae89d",
   "metadata": {},
   "outputs": [],
   "source": [
    "import dgl.data"
   ]
  },
  {
   "cell_type": "code",
   "execution_count": 3,
   "id": "d797bbbc",
   "metadata": {},
   "outputs": [
    {
     "name": "stdout",
     "output_type": "stream",
     "text": [
      "  NumNodes: 2708\n",
      "  NumEdges: 10556\n",
      "  NumFeats: 1433\n",
      "  NumClasses: 7\n",
      "  NumTrainingSamples: 140\n",
      "  NumValidationSamples: 500\n",
      "  NumTestSamples: 1000\n",
      "Done loading data from cached files.\n"
     ]
    }
   ],
   "source": [
    "dataset = dgl.data.CoraGraphDataset()"
   ]
  },
  {
   "cell_type": "code",
   "execution_count": 4,
   "id": "3f2ca2f9",
   "metadata": {},
   "outputs": [],
   "source": [
    "g = dataset[0]"
   ]
  },
  {
   "cell_type": "markdown",
   "id": "85605dc2",
   "metadata": {},
   "source": [
    "# model"
   ]
  },
  {
   "cell_type": "code",
   "execution_count": 5,
   "id": "2212e3aa",
   "metadata": {},
   "outputs": [],
   "source": [
    "import dgl.function as fn"
   ]
  },
  {
   "cell_type": "code",
   "execution_count": 6,
   "id": "4bb52592",
   "metadata": {},
   "outputs": [],
   "source": [
    "class SAGEConv(nn.Module):\n",
    "    '''\n",
    "    graph conv by grashsage\n",
    "    '''\n",
    "    def __init__(self,in_feat,out_feat):\n",
    "        super(SAGEConv,self).__init__()\n",
    "        self.linear = nn.Linear(in_features=in_feat*2,out_features=out_feat)\n",
    "    \n",
    "    def forward(self,g,h):\n",
    "        ##message passing\n",
    "        with g.local_scope():\n",
    "            g.ndata['h'] = h\n",
    "            ##mesaage and reduce\n",
    "            g.update_all(message_func=fn.copy_u('h','m'),reduce_func=fn.mean('m','h_N'))\n",
    "            h_N = g.ndata['h_N']\n",
    "            h_total = torch.cat([h,h_N],dim=1)\n",
    "            return self.linear(h_total)"
   ]
  },
  {
   "cell_type": "code",
   "execution_count": 7,
   "id": "945aef58",
   "metadata": {},
   "outputs": [],
   "source": [
    "class Model(nn.Module):\n",
    "    def __init__(self,in_feat,h_feat,num_class):\n",
    "        super(Model,self).__init__()\n",
    "        self.gc1 = SAGEConv(in_feat,h_feat)\n",
    "        self.gc2 = SAGEConv(h_feat,num_class)\n",
    "    \n",
    "    def forward(self,g,in_feat):\n",
    "        h = self.gc1(g,in_feat)\n",
    "        h = F.relu(h)\n",
    "        h = self.gc2(g,h)\n",
    "        return h"
   ]
  },
  {
   "cell_type": "code",
   "execution_count": 8,
   "id": "d71daecd",
   "metadata": {},
   "outputs": [],
   "source": [
    "model = Model(g.ndata['feat'].shape[1],16,dataset.num_classes)"
   ]
  },
  {
   "cell_type": "code",
   "execution_count": 9,
   "id": "6fc63d50",
   "metadata": {},
   "outputs": [],
   "source": [
    "optimizer = torch.optim.Adam(model.parameters(),lr=0.01)"
   ]
  },
  {
   "cell_type": "code",
   "execution_count": 10,
   "id": "731872c1",
   "metadata": {},
   "outputs": [],
   "source": [
    "loss_func = torch.nn.CrossEntropyLoss()"
   ]
  },
  {
   "cell_type": "markdown",
   "id": "195658fc",
   "metadata": {},
   "source": [
    "# train"
   ]
  },
  {
   "cell_type": "code",
   "execution_count": 11,
   "id": "059b004a",
   "metadata": {},
   "outputs": [],
   "source": [
    "model = model.to('cuda')"
   ]
  },
  {
   "cell_type": "code",
   "execution_count": 12,
   "id": "0e51041c",
   "metadata": {},
   "outputs": [],
   "source": [
    "def train(g,model):\n",
    "    best_val_acc = 0\n",
    "    best_test_acc = 0\n",
    "    \n",
    "    features = g.ndata['feat']\n",
    "    labels = g.ndata['label']\n",
    "    train_mask = g.ndata['train_mask']\n",
    "    val_mask = g.ndata['val_mask']\n",
    "    test_mask = g.ndata['test_mask']\n",
    "    \n",
    "    for e in range(500):\n",
    "        logits = model(g,features)\n",
    "        pred = logits.argmax(1)\n",
    "        \n",
    "        ##\n",
    "        loss = loss_func(logits[train_mask],labels[train_mask])\n",
    "        \n",
    "        train_acc = (pred[train_mask]==labels[train_mask]).float().mean()\n",
    "        val_acc = (pred[val_mask]==labels[val_mask]).float().mean()\n",
    "        test_acc = (pred[test_mask]==labels[test_mask]).float().mean()\n",
    "        \n",
    "        if best_val_acc < val_acc:\n",
    "            best_val_acc = val_acc\n",
    "            best_test_acc  = test_acc\n",
    "        \n",
    "        optimizer.zero_grad()\n",
    "        loss.backward()\n",
    "        optimizer.step()\n",
    "        \n",
    "        if e%5 == 0:\n",
    "            print('epoch:%d,loss:%f,val_acc:%f -best_val:%f,test_acc:%f - best_test:%f,'%(e,\\\n",
    "                                                                                           loss,val_acc,best_val_acc,test_acc,best_test_acc))"
   ]
  },
  {
   "cell_type": "code",
   "execution_count": 13,
   "id": "f2e28b83",
   "metadata": {
    "scrolled": false
   },
   "outputs": [
    {
     "name": "stdout",
     "output_type": "stream",
     "text": [
      "epoch:0,loss:1.948182,val_acc:0.162000 -best_val:0.162000,test_acc:0.149000 - best_test:0.149000,\n",
      "epoch:5,loss:1.873497,val_acc:0.304000 -best_val:0.304000,test_acc:0.308000 - best_test:0.308000,\n",
      "epoch:10,loss:1.721230,val_acc:0.466000 -best_val:0.494000,test_acc:0.462000 - best_test:0.483000,\n",
      "epoch:15,loss:1.486352,val_acc:0.510000 -best_val:0.510000,test_acc:0.499000 - best_test:0.499000,\n",
      "epoch:20,loss:1.182170,val_acc:0.592000 -best_val:0.592000,test_acc:0.566000 - best_test:0.566000,\n",
      "epoch:25,loss:0.848616,val_acc:0.646000 -best_val:0.646000,test_acc:0.645000 - best_test:0.645000,\n",
      "epoch:30,loss:0.544626,val_acc:0.716000 -best_val:0.716000,test_acc:0.688000 - best_test:0.688000,\n",
      "epoch:35,loss:0.317590,val_acc:0.740000 -best_val:0.740000,test_acc:0.729000 - best_test:0.729000,\n",
      "epoch:40,loss:0.176517,val_acc:0.746000 -best_val:0.746000,test_acc:0.752000 - best_test:0.752000,\n",
      "epoch:45,loss:0.098740,val_acc:0.754000 -best_val:0.754000,test_acc:0.763000 - best_test:0.763000,\n",
      "epoch:50,loss:0.057983,val_acc:0.758000 -best_val:0.758000,test_acc:0.758000 - best_test:0.760000,\n",
      "epoch:55,loss:0.036706,val_acc:0.752000 -best_val:0.758000,test_acc:0.763000 - best_test:0.760000,\n",
      "epoch:60,loss:0.025218,val_acc:0.744000 -best_val:0.758000,test_acc:0.760000 - best_test:0.760000,\n",
      "epoch:65,loss:0.018658,val_acc:0.742000 -best_val:0.758000,test_acc:0.758000 - best_test:0.760000,\n",
      "epoch:70,loss:0.014677,val_acc:0.744000 -best_val:0.758000,test_acc:0.760000 - best_test:0.760000,\n",
      "epoch:75,loss:0.012100,val_acc:0.744000 -best_val:0.758000,test_acc:0.759000 - best_test:0.760000,\n",
      "epoch:80,loss:0.010345,val_acc:0.742000 -best_val:0.758000,test_acc:0.756000 - best_test:0.760000,\n",
      "epoch:85,loss:0.009072,val_acc:0.738000 -best_val:0.758000,test_acc:0.755000 - best_test:0.760000,\n",
      "epoch:90,loss:0.008107,val_acc:0.738000 -best_val:0.758000,test_acc:0.757000 - best_test:0.760000,\n",
      "epoch:95,loss:0.007348,val_acc:0.740000 -best_val:0.758000,test_acc:0.757000 - best_test:0.760000,\n",
      "epoch:100,loss:0.006725,val_acc:0.738000 -best_val:0.758000,test_acc:0.757000 - best_test:0.760000,\n",
      "epoch:105,loss:0.006206,val_acc:0.738000 -best_val:0.758000,test_acc:0.757000 - best_test:0.760000,\n",
      "epoch:110,loss:0.005759,val_acc:0.738000 -best_val:0.758000,test_acc:0.756000 - best_test:0.760000,\n",
      "epoch:115,loss:0.005368,val_acc:0.738000 -best_val:0.758000,test_acc:0.756000 - best_test:0.760000,\n",
      "epoch:120,loss:0.005023,val_acc:0.738000 -best_val:0.758000,test_acc:0.756000 - best_test:0.760000,\n",
      "epoch:125,loss:0.004715,val_acc:0.738000 -best_val:0.758000,test_acc:0.756000 - best_test:0.760000,\n",
      "epoch:130,loss:0.004438,val_acc:0.742000 -best_val:0.758000,test_acc:0.756000 - best_test:0.760000,\n",
      "epoch:135,loss:0.004186,val_acc:0.742000 -best_val:0.758000,test_acc:0.756000 - best_test:0.760000,\n",
      "epoch:140,loss:0.003956,val_acc:0.742000 -best_val:0.758000,test_acc:0.756000 - best_test:0.760000,\n",
      "epoch:145,loss:0.003747,val_acc:0.742000 -best_val:0.758000,test_acc:0.757000 - best_test:0.760000,\n",
      "epoch:150,loss:0.003555,val_acc:0.740000 -best_val:0.758000,test_acc:0.757000 - best_test:0.760000,\n",
      "epoch:155,loss:0.003378,val_acc:0.740000 -best_val:0.758000,test_acc:0.757000 - best_test:0.760000,\n",
      "epoch:160,loss:0.003213,val_acc:0.740000 -best_val:0.758000,test_acc:0.757000 - best_test:0.760000,\n",
      "epoch:165,loss:0.003062,val_acc:0.738000 -best_val:0.758000,test_acc:0.756000 - best_test:0.760000,\n",
      "epoch:170,loss:0.002921,val_acc:0.738000 -best_val:0.758000,test_acc:0.756000 - best_test:0.760000,\n",
      "epoch:175,loss:0.002790,val_acc:0.736000 -best_val:0.758000,test_acc:0.756000 - best_test:0.760000,\n",
      "epoch:180,loss:0.002667,val_acc:0.736000 -best_val:0.758000,test_acc:0.755000 - best_test:0.760000,\n",
      "epoch:185,loss:0.002553,val_acc:0.736000 -best_val:0.758000,test_acc:0.755000 - best_test:0.760000,\n",
      "epoch:190,loss:0.002447,val_acc:0.736000 -best_val:0.758000,test_acc:0.755000 - best_test:0.760000,\n",
      "epoch:195,loss:0.002347,val_acc:0.736000 -best_val:0.758000,test_acc:0.755000 - best_test:0.760000,\n",
      "epoch:200,loss:0.002253,val_acc:0.736000 -best_val:0.758000,test_acc:0.755000 - best_test:0.760000,\n",
      "epoch:205,loss:0.002166,val_acc:0.736000 -best_val:0.758000,test_acc:0.755000 - best_test:0.760000,\n",
      "epoch:210,loss:0.002082,val_acc:0.736000 -best_val:0.758000,test_acc:0.755000 - best_test:0.760000,\n",
      "epoch:215,loss:0.002004,val_acc:0.736000 -best_val:0.758000,test_acc:0.756000 - best_test:0.760000,\n",
      "epoch:220,loss:0.001931,val_acc:0.736000 -best_val:0.758000,test_acc:0.756000 - best_test:0.760000,\n",
      "epoch:225,loss:0.001861,val_acc:0.736000 -best_val:0.758000,test_acc:0.756000 - best_test:0.760000,\n",
      "epoch:230,loss:0.001796,val_acc:0.736000 -best_val:0.758000,test_acc:0.756000 - best_test:0.760000,\n",
      "epoch:235,loss:0.001734,val_acc:0.736000 -best_val:0.758000,test_acc:0.756000 - best_test:0.760000,\n",
      "epoch:240,loss:0.001675,val_acc:0.736000 -best_val:0.758000,test_acc:0.756000 - best_test:0.760000,\n",
      "epoch:245,loss:0.001619,val_acc:0.738000 -best_val:0.758000,test_acc:0.757000 - best_test:0.760000,\n",
      "epoch:250,loss:0.001566,val_acc:0.738000 -best_val:0.758000,test_acc:0.757000 - best_test:0.760000,\n",
      "epoch:255,loss:0.001516,val_acc:0.738000 -best_val:0.758000,test_acc:0.758000 - best_test:0.760000,\n",
      "epoch:260,loss:0.001468,val_acc:0.736000 -best_val:0.758000,test_acc:0.758000 - best_test:0.760000,\n",
      "epoch:265,loss:0.001423,val_acc:0.736000 -best_val:0.758000,test_acc:0.759000 - best_test:0.760000,\n",
      "epoch:270,loss:0.001379,val_acc:0.736000 -best_val:0.758000,test_acc:0.759000 - best_test:0.760000,\n",
      "epoch:275,loss:0.001338,val_acc:0.734000 -best_val:0.758000,test_acc:0.759000 - best_test:0.760000,\n",
      "epoch:280,loss:0.001298,val_acc:0.734000 -best_val:0.758000,test_acc:0.759000 - best_test:0.760000,\n",
      "epoch:285,loss:0.001261,val_acc:0.736000 -best_val:0.758000,test_acc:0.759000 - best_test:0.760000,\n",
      "epoch:290,loss:0.001224,val_acc:0.736000 -best_val:0.758000,test_acc:0.760000 - best_test:0.760000,\n",
      "epoch:295,loss:0.001190,val_acc:0.736000 -best_val:0.758000,test_acc:0.759000 - best_test:0.760000,\n",
      "epoch:300,loss:0.001157,val_acc:0.736000 -best_val:0.758000,test_acc:0.760000 - best_test:0.760000,\n",
      "epoch:305,loss:0.001125,val_acc:0.736000 -best_val:0.758000,test_acc:0.759000 - best_test:0.760000,\n",
      "epoch:310,loss:0.001095,val_acc:0.736000 -best_val:0.758000,test_acc:0.759000 - best_test:0.760000,\n",
      "epoch:315,loss:0.001066,val_acc:0.736000 -best_val:0.758000,test_acc:0.760000 - best_test:0.760000,\n",
      "epoch:320,loss:0.001038,val_acc:0.736000 -best_val:0.758000,test_acc:0.760000 - best_test:0.760000,\n",
      "epoch:325,loss:0.001011,val_acc:0.736000 -best_val:0.758000,test_acc:0.760000 - best_test:0.760000,\n",
      "epoch:330,loss:0.000986,val_acc:0.736000 -best_val:0.758000,test_acc:0.760000 - best_test:0.760000,\n",
      "epoch:335,loss:0.000961,val_acc:0.736000 -best_val:0.758000,test_acc:0.760000 - best_test:0.760000,\n",
      "epoch:340,loss:0.000937,val_acc:0.736000 -best_val:0.758000,test_acc:0.759000 - best_test:0.760000,\n",
      "epoch:345,loss:0.000914,val_acc:0.736000 -best_val:0.758000,test_acc:0.759000 - best_test:0.760000,\n",
      "epoch:350,loss:0.000892,val_acc:0.736000 -best_val:0.758000,test_acc:0.759000 - best_test:0.760000,\n",
      "epoch:355,loss:0.000871,val_acc:0.736000 -best_val:0.758000,test_acc:0.759000 - best_test:0.760000,\n",
      "epoch:360,loss:0.000850,val_acc:0.736000 -best_val:0.758000,test_acc:0.759000 - best_test:0.760000,\n",
      "epoch:365,loss:0.000830,val_acc:0.736000 -best_val:0.758000,test_acc:0.759000 - best_test:0.760000,\n",
      "epoch:370,loss:0.000811,val_acc:0.736000 -best_val:0.758000,test_acc:0.759000 - best_test:0.760000,\n",
      "epoch:375,loss:0.000793,val_acc:0.736000 -best_val:0.758000,test_acc:0.759000 - best_test:0.760000,\n",
      "epoch:380,loss:0.000775,val_acc:0.736000 -best_val:0.758000,test_acc:0.759000 - best_test:0.760000,\n",
      "epoch:385,loss:0.000758,val_acc:0.736000 -best_val:0.758000,test_acc:0.759000 - best_test:0.760000,\n",
      "epoch:390,loss:0.000741,val_acc:0.736000 -best_val:0.758000,test_acc:0.759000 - best_test:0.760000,\n",
      "epoch:395,loss:0.000725,val_acc:0.736000 -best_val:0.758000,test_acc:0.760000 - best_test:0.760000,\n",
      "epoch:400,loss:0.000710,val_acc:0.736000 -best_val:0.758000,test_acc:0.759000 - best_test:0.760000,\n",
      "epoch:405,loss:0.000695,val_acc:0.736000 -best_val:0.758000,test_acc:0.760000 - best_test:0.760000,\n",
      "epoch:410,loss:0.000680,val_acc:0.736000 -best_val:0.758000,test_acc:0.760000 - best_test:0.760000,\n",
      "epoch:415,loss:0.000666,val_acc:0.736000 -best_val:0.758000,test_acc:0.760000 - best_test:0.760000,\n",
      "epoch:420,loss:0.000653,val_acc:0.736000 -best_val:0.758000,test_acc:0.760000 - best_test:0.760000,\n",
      "epoch:425,loss:0.000640,val_acc:0.736000 -best_val:0.758000,test_acc:0.760000 - best_test:0.760000,\n",
      "epoch:430,loss:0.000627,val_acc:0.736000 -best_val:0.758000,test_acc:0.759000 - best_test:0.760000,\n",
      "epoch:435,loss:0.000614,val_acc:0.736000 -best_val:0.758000,test_acc:0.759000 - best_test:0.760000,\n",
      "epoch:440,loss:0.000602,val_acc:0.736000 -best_val:0.758000,test_acc:0.759000 - best_test:0.760000,\n",
      "epoch:445,loss:0.000591,val_acc:0.736000 -best_val:0.758000,test_acc:0.759000 - best_test:0.760000,\n",
      "epoch:450,loss:0.000579,val_acc:0.736000 -best_val:0.758000,test_acc:0.759000 - best_test:0.760000,\n",
      "epoch:455,loss:0.000569,val_acc:0.736000 -best_val:0.758000,test_acc:0.759000 - best_test:0.760000,\n",
      "epoch:460,loss:0.000558,val_acc:0.736000 -best_val:0.758000,test_acc:0.759000 - best_test:0.760000,\n",
      "epoch:465,loss:0.000547,val_acc:0.736000 -best_val:0.758000,test_acc:0.759000 - best_test:0.760000,\n",
      "epoch:470,loss:0.000537,val_acc:0.736000 -best_val:0.758000,test_acc:0.759000 - best_test:0.760000,\n"
     ]
    },
    {
     "name": "stdout",
     "output_type": "stream",
     "text": [
      "epoch:475,loss:0.000528,val_acc:0.736000 -best_val:0.758000,test_acc:0.759000 - best_test:0.760000,\n",
      "epoch:480,loss:0.000518,val_acc:0.736000 -best_val:0.758000,test_acc:0.759000 - best_test:0.760000,\n",
      "epoch:485,loss:0.000509,val_acc:0.736000 -best_val:0.758000,test_acc:0.759000 - best_test:0.760000,\n",
      "epoch:490,loss:0.000500,val_acc:0.736000 -best_val:0.758000,test_acc:0.759000 - best_test:0.760000,\n",
      "epoch:495,loss:0.000491,val_acc:0.736000 -best_val:0.758000,test_acc:0.759000 - best_test:0.760000,\n"
     ]
    }
   ],
   "source": [
    "train(g.to(\"cuda\"),model)"
   ]
  },
  {
   "cell_type": "code",
   "execution_count": null,
   "id": "db3f1546",
   "metadata": {},
   "outputs": [],
   "source": []
  }
 ],
 "metadata": {
  "kernelspec": {
   "display_name": "Python 3 (ipykernel)",
   "language": "python",
   "name": "python3"
  },
  "language_info": {
   "codemirror_mode": {
    "name": "ipython",
    "version": 3
   },
   "file_extension": ".py",
   "mimetype": "text/x-python",
   "name": "python",
   "nbconvert_exporter": "python",
   "pygments_lexer": "ipython3",
   "version": "3.9.7"
  }
 },
 "nbformat": 4,
 "nbformat_minor": 5
}

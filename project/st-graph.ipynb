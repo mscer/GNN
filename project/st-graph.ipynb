{
 "cells": [
  {
   "cell_type": "code",
   "execution_count": 1,
   "id": "78715526",
   "metadata": {},
   "outputs": [],
   "source": [
    "import dgl.data\n",
    "import torch\n",
    "import torch.nn as nn\n",
    "import torch.nn.functional as F\n",
    "import pickle"
   ]
  },
  {
   "cell_type": "code",
   "execution_count": 2,
   "id": "265bc3ff",
   "metadata": {},
   "outputs": [],
   "source": [
    "import torch\n",
    "import random\n",
    "import numpy as np\n",
    "\n",
    "torch.manual_seed(0)\n",
    "random.seed(0)\n",
    "np.random.seed(0)"
   ]
  },
  {
   "cell_type": "markdown",
   "id": "14198370",
   "metadata": {},
   "source": [
    "# data"
   ]
  },
  {
   "cell_type": "code",
   "execution_count": 3,
   "id": "e6aa5ebc",
   "metadata": {},
   "outputs": [],
   "source": [
    "graphs_list = dgl.load_graphs('./res_data/ad_graphs.dgl')[0]"
   ]
  },
  {
   "cell_type": "code",
   "execution_count": 4,
   "id": "d559f176",
   "metadata": {},
   "outputs": [],
   "source": [
    "f_ad_index = open('./res_data/ad_index','rb')\n",
    "ad_index = pickle.load(f_ad_index)\n",
    "\n",
    "f_index_ad = open('./res_data/index_ad','rb')\n",
    "index_ad = pickle.load(f_index_ad)\n",
    "\n",
    "f_ds_ad_label = open('./res_data/ds_ad_label','rb')\n",
    "ds_ad_label = pickle.load(f_ds_ad_label)"
   ]
  },
  {
   "cell_type": "markdown",
   "id": "6c6be540",
   "metadata": {},
   "source": [
    "# model"
   ]
  },
  {
   "cell_type": "code",
   "execution_count": 5,
   "id": "52b6f563",
   "metadata": {},
   "outputs": [],
   "source": [
    "from dgl.nn import GraphConv\n",
    "from dgl.nn import SAGEConv"
   ]
  },
  {
   "cell_type": "code",
   "execution_count": 6,
   "id": "192039e9",
   "metadata": {},
   "outputs": [],
   "source": [
    "class GCN(nn.Module):\n",
    "    def __init__(self, in_feats, h_feats, num_classes):\n",
    "        super(GCN ,self).__init__()\n",
    "        #self.conv1 = GraphConv(in_feats, h_feats)\n",
    "        #self.conv2 = GraphConv(h_feats, num_classes)\n",
    "        self.conv1 = SAGEConv(in_feats,h_feats,aggregator_type='mean')\n",
    "        self.conv2 = SAGEConv(h_feats, num_classes,aggregator_type='mean')\n",
    "    def forward(self, g, in_feat):\n",
    "        h = self.conv1(g, in_feat)\n",
    "        h = F.relu(h)\n",
    "        h = self.conv2(g, h)\n",
    "        return h"
   ]
  },
  {
   "cell_type": "code",
   "execution_count": 7,
   "id": "5dfebfd5",
   "metadata": {},
   "outputs": [],
   "source": [
    "class embedGCN(nn.Module):\n",
    "    def __init__(self, in_feats, h_feats, num_classes):\n",
    "        super(embedGCN ,self).__init__()\n",
    "        self.node_embed = nn.Embedding(in_feats, h_feats)\n",
    "        self.gcn = GCN(h_feats, h_feats, num_classes)\n",
    "        \n",
    "    def forward(self, g):\n",
    "        new_feat = self.node_embed(torch.arange(start=0,end=g.num_nodes(),dtype=torch.int64))\n",
    "        #print(new_feat.shape)\n",
    "        #print(new_feat[0])\n",
    "        h = self.gcn(g,new_feat)\n",
    "        return h\n"
   ]
  },
  {
   "cell_type": "code",
   "execution_count": 8,
   "id": "b1df59d8",
   "metadata": {},
   "outputs": [],
   "source": [
    "class seqEmbedGCN(nn.Module):\n",
    "    def __init__(self, in_feats, h_feats, num_classes):\n",
    "        super(seqEmbedGCN ,self).__init__()\n",
    "        self.embedGCN = embedGCN(in_feats, h_feats, h_feats)\n",
    "        self.rnn = nn.LSTM(h_feats,h_feats,num_layers=2,batch_first=False)\n",
    "        self.outlayer = nn.Linear(h_feats,num_classes)\n",
    "        \n",
    "    def forward(self, graphs,debug=False):\n",
    "        ##graphs: \n",
    "        seq_input = torch.stack([self.embedGCN(g) for g in graphs],0)\n",
    "        #seq_input = torch.randn(5, 2708, 16)\n",
    "        if debug:\n",
    "            print('input',seq_input.shape)\n",
    "\n",
    "        output, (hn, cn) = self.rnn(seq_input)\n",
    "        if debug:\n",
    "            print('o',output.shape)\n",
    "            print('h',hn.shape)\n",
    "            print('c',cn.shape)\n",
    "        output = self.outlayer(output)\n",
    "        if debug:\n",
    "            print('last_out',output.shape)\n",
    "        return output\n",
    "    \n",
    "    def getGCNout(self,graphs,debug=False):\n",
    "        return self.embedGCN(g)"
   ]
  },
  {
   "cell_type": "code",
   "execution_count": 9,
   "id": "e1e6eba7",
   "metadata": {},
   "outputs": [],
   "source": [
    "model = seqEmbedGCN(graphs_list[0].num_nodes(), 16, 1)\n",
    "g = graphs_list[0]"
   ]
  },
  {
   "cell_type": "code",
   "execution_count": 10,
   "id": "f2337b15",
   "metadata": {},
   "outputs": [
    {
     "name": "stdout",
     "output_type": "stream",
     "text": [
      "input torch.Size([2, 368, 16])\n",
      "o torch.Size([2, 368, 16])\n",
      "h torch.Size([2, 368, 16])\n",
      "c torch.Size([2, 368, 16])\n",
      "last_out torch.Size([2, 368, 1])\n"
     ]
    }
   ],
   "source": [
    "out = model([g,g],True)"
   ]
  },
  {
   "cell_type": "code",
   "execution_count": 11,
   "id": "9aaabfd5",
   "metadata": {},
   "outputs": [
    {
     "data": {
      "text/plain": [
       "torch.Size([2, 368, 1])"
      ]
     },
     "execution_count": 11,
     "metadata": {},
     "output_type": "execute_result"
    }
   ],
   "source": [
    "out.shape"
   ]
  },
  {
   "cell_type": "markdown",
   "id": "68b222fa",
   "metadata": {},
   "source": [
    "# train"
   ]
  },
  {
   "cell_type": "code",
   "execution_count": 29,
   "id": "4cdd03ec",
   "metadata": {},
   "outputs": [],
   "source": [
    "def seq_train(graphs_list, model):\n",
    "    optimizer = torch.optim.Adam(model.parameters(), lr=0.01)\n",
    "    best_val_acc = 0\n",
    "    best_test_acc = 0\n",
    "    loss_fn = torch.nn.MSELoss()\n",
    "\n",
    "    for e in range(500):\n",
    "        beg_pos = 0\n",
    "        seq_len = 2\n",
    "\n",
    "        for i in range(seq_len,len(graphs_list)+seq_len,seq_len):\n",
    "            #print(i,graphs_list[beg_pos:i])\n",
    "            input_graph = graphs_list[beg_pos:i]\n",
    "            #print(input_graph)\n",
    "            #print('embed',model.embedGCN.node_embed.weight[0])\n",
    "            # Forward\n",
    "            logits = model(input_graph)\n",
    "\n",
    "            pred = logits.argmax(1)\n",
    "            label = torch.stack([g.ndata['y'] for g in input_graph],0)\n",
    "            # Compute loss\n",
    "            # Note that you should only compute the losses of the nodes in the training set.\n",
    "            \n",
    "            loss =loss_fn(logits,label)\n",
    "\n",
    "\n",
    "            # Backward\n",
    "            optimizer.zero_grad()\n",
    "            loss.backward()\n",
    "            optimizer.step()\n",
    "\n",
    "            if e % 100 == 0:\n",
    "                print(\"epoch:%d; step:%d :loss:%f\"%(e,i,loss))\n",
    "                #print(model.embedGCN.node_embed.weight)\n",
    "            beg_pos = i"
   ]
  },
  {
   "cell_type": "code",
   "execution_count": 30,
   "id": "900a8ac9",
   "metadata": {
    "scrolled": false
   },
   "outputs": [
    {
     "name": "stdout",
     "output_type": "stream",
     "text": [
      "epoch:0; step:2 :loss:0.164750\n",
      "epoch:0; step:4 :loss:0.148153\n",
      "epoch:0; step:6 :loss:0.122323\n",
      "epoch:0; step:8 :loss:0.103119\n",
      "epoch:100; step:2 :loss:0.000243\n",
      "epoch:100; step:4 :loss:0.000211\n",
      "epoch:100; step:6 :loss:0.000163\n",
      "epoch:100; step:8 :loss:0.000261\n",
      "epoch:200; step:2 :loss:0.000216\n",
      "epoch:200; step:4 :loss:0.000185\n",
      "epoch:200; step:6 :loss:0.000132\n",
      "epoch:200; step:8 :loss:0.000226\n",
      "epoch:300; step:2 :loss:0.000203\n",
      "epoch:300; step:4 :loss:0.000170\n",
      "epoch:300; step:6 :loss:0.000121\n",
      "epoch:300; step:8 :loss:0.000202\n",
      "epoch:400; step:2 :loss:0.000187\n",
      "epoch:400; step:4 :loss:0.000155\n",
      "epoch:400; step:6 :loss:0.000111\n",
      "epoch:400; step:8 :loss:0.000173\n"
     ]
    }
   ],
   "source": [
    "g = graphs_list[0]\n",
    "model = seqEmbedGCN(g.num_nodes(), 8, 1)\n",
    "seq_train(graphs_list, model)"
   ]
  },
  {
   "cell_type": "code",
   "execution_count": 14,
   "id": "281869f1",
   "metadata": {},
   "outputs": [
    {
     "name": "stdout",
     "output_type": "stream",
     "text": [
      "Parameter containing:\n",
      "tensor([[-0.5746, -0.0588, -3.6979,  ...,  1.0839,  0.5945,  2.7897],\n",
      "        [ 0.8305, -0.7315,  0.8775,  ...,  1.1419, -0.6689, -1.0674],\n",
      "        [-2.1685, -1.4817, -0.0759,  ...,  0.3293,  1.7991,  1.9383],\n",
      "        ...,\n",
      "        [-0.1571, -0.8844, -0.4559,  ...,  0.4278,  1.4550, -0.3525],\n",
      "        [ 2.2011, -0.8131,  1.0844,  ..., -0.8853, -0.2358, -1.3186],\n",
      "        [ 1.8563,  0.0440, -0.5163,  ...,  0.1553,  0.4654, -2.2332]],\n",
      "       requires_grad=True)\n"
     ]
    }
   ],
   "source": [
    "##\n",
    "print(model.embedGCN.node_embed.weight)"
   ]
  },
  {
   "cell_type": "code",
   "execution_count": 15,
   "id": "d1f8986f",
   "metadata": {},
   "outputs": [
    {
     "data": {
      "text/plain": [
       "tensor([-0.5746, -0.0588, -3.6979, -1.4440, -0.6106,  1.0839,  0.5945,  2.7897],\n",
       "       grad_fn=<EmbeddingBackward0>)"
      ]
     },
     "execution_count": 15,
     "metadata": {},
     "output_type": "execute_result"
    }
   ],
   "source": [
    "model.embedGCN.node_embed(torch.tensor(0))"
   ]
  },
  {
   "cell_type": "code",
   "execution_count": 16,
   "id": "2328a7cf",
   "metadata": {},
   "outputs": [
    {
     "data": {
      "text/plain": [
       "'130200'"
      ]
     },
     "execution_count": 16,
     "metadata": {},
     "output_type": "execute_result"
    }
   ],
   "source": [
    "index_ad[0]"
   ]
  },
  {
   "cell_type": "code",
   "execution_count": 17,
   "id": "1cff6d8d",
   "metadata": {},
   "outputs": [
    {
     "data": {
      "text/plain": [
       "tensor([ 0.0918,  1.9054, -0.0982, -0.3155, -0.6081,  0.4646, -1.0662, -0.6121],\n",
       "       grad_fn=<EmbeddingBackward0>)"
      ]
     },
     "execution_count": 17,
     "metadata": {},
     "output_type": "execute_result"
    }
   ],
   "source": [
    "model.embedGCN.node_embed(torch.tensor(ad_index['110000']))"
   ]
  },
  {
   "cell_type": "code",
   "execution_count": 18,
   "id": "39e9da9c",
   "metadata": {},
   "outputs": [],
   "source": [
    "a = model.embedGCN.node_embed(torch.tensor(0))"
   ]
  },
  {
   "cell_type": "code",
   "execution_count": 19,
   "id": "bcc1805b",
   "metadata": {},
   "outputs": [],
   "source": [
    "b = model.embedGCN.node_embed(torch.tensor(ad_index['110000']))"
   ]
  },
  {
   "cell_type": "code",
   "execution_count": 20,
   "id": "b028ba64",
   "metadata": {},
   "outputs": [
    {
     "data": {
      "text/plain": [
       "tensor(-0.0662, grad_fn=<SumBackward1>)"
      ]
     },
     "execution_count": 20,
     "metadata": {},
     "output_type": "execute_result"
    }
   ],
   "source": [
    "torch.nn.functional.cosine_similarity(a,b,dim=0)"
   ]
  },
  {
   "cell_type": "markdown",
   "id": "cb29cc19",
   "metadata": {},
   "source": [
    "# eval"
   ]
  },
  {
   "cell_type": "code",
   "execution_count": 21,
   "id": "204e3551",
   "metadata": {},
   "outputs": [],
   "source": [
    "def get_cosvalue(ad_a,ad_b):\n",
    "    a = model.embedGCN.node_embed(torch.tensor(ad_index[ad_a]))\n",
    "    b = model.embedGCN.node_embed(torch.tensor(ad_index[ad_b]))\n",
    "    return torch.nn.functional.cosine_similarity(a,b,dim=0)"
   ]
  },
  {
   "cell_type": "code",
   "execution_count": 22,
   "id": "efb16440",
   "metadata": {},
   "outputs": [
    {
     "data": {
      "text/plain": [
       "tensor(-0.0662, grad_fn=<SumBackward1>)"
      ]
     },
     "execution_count": 22,
     "metadata": {},
     "output_type": "execute_result"
    }
   ],
   "source": [
    "get_cosvalue('110000','130200')"
   ]
  },
  {
   "cell_type": "markdown",
   "id": "1852bcab",
   "metadata": {},
   "source": [
    "# save"
   ]
  },
  {
   "cell_type": "code",
   "execution_count": 35,
   "id": "e6b17fb4",
   "metadata": {},
   "outputs": [],
   "source": [
    "import datetime "
   ]
  },
  {
   "cell_type": "code",
   "execution_count": 40,
   "id": "eb6336ba",
   "metadata": {},
   "outputs": [],
   "source": [
    "dt = datetime.datetime.now()\n",
    "timestamp = \"%s-%s-%s-%s-%s\"%(dt.year,dt.month,dt.day,dt.hour,dt.minute)\n",
    "ckPath = './model_res/%s'%(timestamp)  "
   ]
  },
  {
   "cell_type": "code",
   "execution_count": 41,
   "id": "d9910ed0",
   "metadata": {},
   "outputs": [],
   "source": [
    "\n",
    "torch.save(model.state_dict(), ckPath)"
   ]
  },
  {
   "cell_type": "code",
   "execution_count": 43,
   "id": "1b07a5f4",
   "metadata": {},
   "outputs": [
    {
     "data": {
      "text/plain": [
       "torch.Size([368, 8])"
      ]
     },
     "execution_count": 43,
     "metadata": {},
     "output_type": "execute_result"
    }
   ],
   "source": [
    "model.getGCNout(graphs_list[0]).shape"
   ]
  },
  {
   "cell_type": "code",
   "execution_count": null,
   "id": "823dea9f",
   "metadata": {},
   "outputs": [],
   "source": []
  }
 ],
 "metadata": {
  "kernelspec": {
   "display_name": "Python 3 (ipykernel)",
   "language": "python",
   "name": "python3"
  },
  "language_info": {
   "codemirror_mode": {
    "name": "ipython",
    "version": 3
   },
   "file_extension": ".py",
   "mimetype": "text/x-python",
   "name": "python",
   "nbconvert_exporter": "python",
   "pygments_lexer": "ipython3",
   "version": "3.7.13"
  }
 },
 "nbformat": 4,
 "nbformat_minor": 5
}
